{
 "cells": [
  {
   "cell_type": "code",
   "execution_count": 1,
   "metadata": {},
   "outputs": [],
   "source": [
    "import random\n",
    "import matplotlib.pylab as plt\n",
    "import numpy as np\n",
    "from ipywidgets import interact, FloatSlider\n",
    "import itertools as iter\n",
    "import math"
   ]
  },
  {
   "cell_type": "markdown",
   "metadata": {},
   "source": [
    "<span><strong style=\"color: red\">IMPORTANT!</strong> If you're reading this on a phone, keep in mind that cells with Python code cannot be resized. If any cell is too large and has hidden text/code, rotate your phone sideways. </span>"
   ]
  },
  {
   "cell_type": "markdown",
   "metadata": {},
   "source": [
    "<div style=\"text-align: center; font-size: 50px;\"><strong>Simple Neural Network</strong></div>\n",
    "<p style=\"text-align: center;\">(Programmatically)</p>"
   ]
  },
  {
   "cell_type": "markdown",
   "metadata": {},
   "source": [
    "</br>\n",
    "\n",
    "#### 1. What is a Neural Network:\n",
    "- A neural network is a machine learning program, or model, that makes decisions in a manner similar to the human brain, by using processes that mimic the way biological neurons work together to identify phenomena, weigh options and arrive at conclusions.\n",
    "Every neural network consists of layers of nodes, an input layer, one or more hidden layers, and an output layer. Each node/neuron connects to others, and has its own associated weight. If the output of any individual node is above the specified threshold value, that node is activated, sending data to the next layer of the network."
   ]
  },
  {
   "cell_type": "markdown",
   "metadata": {},
   "source": [
    "### 2. Neural Network Architecture.\n",
    "- Bulding a Neural Network requires:\n",
    "  1. Neurons (Nodes).\n",
    "  2. Layers.\n",
    "  3. Weights and Biases.\n",
    "  4. Activation Function.\n",
    "  5. Cost/Loss Function.\n",
    "  6. Optimizer (Algorithm).\n",
    "  7. Training Data.\n",
    "  8. Backpropagation Algorithm.\n",
    "  \n",
    "- Representation of  Neural Network:\n",
    "\n",
    "![Alt text](https://miro.medium.com/v2/resize:fit:1400/1*ZXAOUqmlyECgfVa81Sr6Ew.png)\n",
    "\n",
    "- Representation of a single neuron with its weights and bias:\n",
    "\n",
    "![Alt text](https://www.oliviergibaru.org/courses/img/neuron.png)\n"
   ]
  },
  {
   "cell_type": "markdown",
   "metadata": {},
   "source": [
    "#### 3. Creating Neural Network with one neuron.\n",
    " 1. The simplest neural network consists of one neuron (no hidden layers/unbias) that takes inputs and produce outputs. This type of  N.N. can learn only linear function, so in this example we can see a Linear Regression, where for each X value, the Y value is doubled.\n",
    "\n",
    "$$ a = 2 $$\n",
    "$$ f(x) = ax $$\n",
    "$$ y = f(x) $$"
   ]
  },
  {
   "cell_type": "markdown",
   "metadata": {},
   "source": [
    "2. Preparing random inputs and targets for training, initializing the weight, learning rate and epochs as well the prediction/feed forward function."
   ]
  },
  {
   "cell_type": "code",
   "execution_count": null,
   "metadata": {},
   "outputs": [],
   "source": [
    "inputs = random.sample(range(0, 10), 10)\n",
    "targets = [i * 2 for i in inputs]\n",
    "\n",
    "weight = 0.1\n",
    "\n",
    "def predict(i):\n",
    "  return weight * i"
   ]
  },
  {
   "cell_type": "markdown",
   "metadata": {},
   "source": [
    "3. We make a prediction for all the training inputs."
   ]
  },
  {
   "cell_type": "code",
   "execution_count": 3,
   "metadata": {},
   "outputs": [],
   "source": [
    "def data_prediction(inputs):\n",
    "  pred = [predict(i) for i in inputs]\n",
    "  return pred"
   ]
  },
  {
   "cell_type": "markdown",
   "metadata": {},
   "source": [
    "4. The network needs a way to express how accurate the predictions are. Each target value can be compared with a prediction. The difference between the two is called error of a single training sample."
   ]
  },
  {
   "cell_type": "markdown",
   "metadata": {},
   "source": [
    "5. Then we calculate the average over all the errors, that is called \"cost\". Cost function quantifies the error between predicted and expected values and present that error in the form of a single real number. The cost basically tells us how good the network is learning and point is to bring the cost as low as possible.\n",
    " - the cost function for this example is called Mean Absolute Error (MAE).\n",
    " $$ \\text{MAE} = \\frac{1}{n} \\sum_{i=1}^{n} \\left| y_i - \\hat{y}_i \\right| $$"
   ]
  },
  {
   "cell_type": "code",
   "execution_count": 4,
   "metadata": {},
   "outputs": [],
   "source": [
    "def calculate_cost(predictions, targets):\n",
    "  errors = [abs(t - p) for p, t in zip(predictions, targets)]\n",
    "  cost = sum(errors) / len(targets)\n",
    "  return cost"
   ]
  },
  {
   "cell_type": "markdown",
   "metadata": {},
   "source": [
    "6. We need to train our N.N. and update the weight while finding a good balance between the learning rate and epochs. To update the weight we need to calculate the gradient. Updating the weight in the network is called back propagation. Back propagation takes the desired weight changes and propagates it back to the start of the network by adjusting the weight. The learning rate is a tuning parameter in an optimization algorithm that determines the step size at each iteration while moving toward a minimum of a loss function."
   ]
  },
  {
   "cell_type": "code",
   "execution_count": 5,
   "metadata": {},
   "outputs": [
    {
     "name": "stdout",
     "output_type": "stream",
     "text": [
      "Weight: 0.10, Cost: 8.55\n",
      "Weight: 0.96, Cost: 4.70\n",
      "Weight: 1.43, Cost: 2.59\n",
      "Weight: 1.68, Cost: 1.42\n",
      "Weight: 1.83, Cost: 0.78\n",
      "Weight: 1.90, Cost: 0.43\n",
      "Weight: 1.95, Cost: 0.24\n",
      "Weight: 1.97, Cost: 0.13\n",
      "Weight: 1.98, Cost: 0.07\n",
      "Weight: 1.99, Cost: 0.04\n"
     ]
    }
   ],
   "source": [
    "epochs = 10\n",
    "learning_rate = 0.1\n",
    "for _ in range(epochs):\n",
    "  predictions = data_prediction(inputs)\n",
    "  cost = calculate_cost(predictions, targets)\n",
    "  print(f\"Weight: {weight:.2f}, Cost: {cost:.2f}\")\n",
    "\n",
    "  weight += learning_rate * cost"
   ]
  },
  {
   "cell_type": "markdown",
   "metadata": {},
   "source": [
    "7. Finally we need to test the network with some test data."
   ]
  },
  {
   "cell_type": "code",
   "execution_count": 6,
   "metadata": {},
   "outputs": [],
   "source": [
    "#Test data\n",
    "test_inputs = [5, 6, 8, 15]\n",
    "test_targets = [10, 12, 16, 30]"
   ]
  },
  {
   "cell_type": "markdown",
   "metadata": {},
   "source": [
    "The weight was tweaked and the cost was reduce, so now we can test on different data"
   ]
  },
  {
   "cell_type": "code",
   "execution_count": 7,
   "metadata": {},
   "outputs": [
    {
     "name": "stdout",
     "output_type": "stream",
     "text": [
      "Network testing:\n",
      "- Input: 5, Target: 10, Prediction: 9.9759\n",
      "- Input: 6, Target: 12, Prediction: 11.9711\n",
      "- Input: 8, Target: 16, Prediction: 15.9615\n",
      "- Input: 15, Target: 30, Prediction: 29.9278\n"
     ]
    }
   ],
   "source": [
    "def network_test(t_inputs, t_targets):\n",
    "  predictions = data_prediction(test_inputs)\n",
    "  print(\"Network testing:\")\n",
    "  for i, t, p in zip(t_inputs, t_targets, predictions):\n",
    "    print(f\"- Input: {i}, Target: {t}, Prediction: {p:.4f}\")\n",
    "\n",
    "# if we want the perfect prediction we need to eather increase epochs or the learning rate.\n",
    "network_test(test_inputs, test_targets)  "
   ]
  },
  {
   "cell_type": "markdown",
   "metadata": {},
   "source": [
    "8. Plotting the data after f(x) = ax | a = 2:"
   ]
  },
  {
   "cell_type": "code",
   "execution_count": 8,
   "metadata": {},
   "outputs": [
    {
     "data": {
      "image/png": "[encoded data removed]",
      "text/plain": [
       "<Figure size 640x480 with 1 Axes>"
      ]
     },
     "metadata": {},
     "output_type": "display_data"
    }
   ],
   "source": [
    "def plot_data(inputs, targets, title):\n",
    "  plt.scatter(x=inputs,y=targets, label=\"Y values\")\n",
    "  plt.plot(inputs, targets)\n",
    "  plt.xlim(left=0, right=11) \n",
    "  plt.ylim(bottom=0, top=21)\n",
    "  plt.xticks(range(0, 11))\n",
    "  plt.yticks(range(0, 21))\n",
    "  plt.xlabel(\"x\")\n",
    "  plt.ylabel(\"y\")\n",
    "  plt.title(title)\n",
    "  plt.legend()\n",
    "  plt.grid(True)\n",
    "  plt.show()\n",
    "  \n",
    "plot_data(inputs, targets, \"Linear Regression\")"
   ]
  },
  {
   "cell_type": "markdown",
   "metadata": {},
   "source": [
    "#### 4. Creating Neural Network with more than one neurons and a hidden layer.\n",
    " 1. In order to create more complex N.N. i'm going to add extra input for each neuron in the layers except the input layer. It is called Bias.\n",
    "  - the bias have several purposes:\n",
    "    - Offsetting Activation\n",
    "    - Fine-Tuning\n",
    "    - Non-linearities\n",
    "    - Training\n",
    "    - Generalization\n",
    "\n",
    "On the diagram below you can play with the Weigths and Bias, so you can see the realation between thse two parameters. Basically the bias helps us moving the intercepting line up and down, while adjusting the Weigths rotate the line."
   ]
  },
  {
   "cell_type": "code",
   "execution_count": 9,
   "metadata": {},
   "outputs": [
    {
     "data": {
      "application/vnd.jupyter.widget-view+json": {
       "model_id": "915c35158df045f49d66e1c97fb497ee",
       "version_major": 2,
       "version_minor": 0
      },
      "text/plain": [
       "interactive(children=(FloatSlider(value=1.0, description='Weight:', max=5.0, min=-5.0), FloatSlider(value=0.0,…"
      ]
     },
     "metadata": {},
     "output_type": "display_data"
    }
   ],
   "source": [
    "x = np.linspace(-10, 10, 400)\n",
    "\n",
    "def plot_line(slope, intercept):\n",
    "    y = slope * x + intercept\n",
    "    plt.figure(figsize=(10, 5))\n",
    "    plt.plot(x, y, label=f'y = {slope}x + {intercept}')\n",
    "    plt.title('Weights and Biases')\n",
    "    plt.xlabel('x')\n",
    "    plt.ylabel('y')\n",
    "    plt.axhline(0, color='black', linewidth=0.5)\n",
    "    plt.axvline(0, color='black', linewidth=0.5)\n",
    "    plt.grid(color='gray', linestyle='--', linewidth=0.5)\n",
    "    plt.legend()\n",
    "    plt.ylim(-20, 20)\n",
    "    plt.show()\n",
    "\n",
    "slope_slider = FloatSlider(value=1, min=-5, max=5, step=0.1, description='Weight:')\n",
    "intercept_slider = FloatSlider(value=0, min=-10, max=10, step=0.1, description='Bias:')\n",
    "\n",
    "interact(plot_line, slope=slope_slider, intercept=intercept_slider);"
   ]
  },
  {
   "cell_type": "markdown",
   "metadata": {},
   "source": [
    "2. For the next N.N. example i'm going to add additional layer (hidden layer) and all the neuron's biases in the hidden layer and the output layer.\n",
    "The Neural Network is going to predict the colors of the three types of flowers (**purple**, **orange**, **green**) based on two parameters (leaves length and leaves width).\n",
    "\n",
    "- Flowers metrics:\n",
    "\n",
    "| Color  |  Length  | Width |\n",
    "|----------|:-------------:|------:|\n",
    "| Purple |min = 2.2, max = 5.3| min = 1.1, max = 2.7|\n",
    "| Orange |min = 2.9, max = 4.7| min = 2.2, max = 3.2|\n",
    "| Green |min = 2.7, max = 4.7 | min = 2.5, max = 3.9|\n",
    "\n",
    " - generating 60 randomized samples of flowers with values between the metrics above. Purple flowers - 22, Orange - 20, Green - 18 (this can be any number of samples it doesn`t matter)."
   ]
  },
  {
   "cell_type": "code",
   "execution_count": 10,
   "metadata": {},
   "outputs": [],
   "source": [
    "purple_len_wid = [(round(random.uniform(2.2, 5.3), 1), round(random.uniform(1.1, 2.7), 1)) for _ in range(22)]\n",
    "orange_len_wid = [(round(random.uniform(2.9, 4.7), 1), round(random.uniform(2.2, 3.2), 1)) for _ in range(20)]\n",
    "green_len_wid = [(round(random.uniform(2.7, 4.7), 1), round(random.uniform(2.5, 3.9), 1)) for _ in range(18)]"
   ]
  },
  {
   "cell_type": "markdown",
   "metadata": {},
   "source": [
    "- second step - normalize the data using **Min - Max Normalization** function. This kind of normalization brings all values (lengths and widths) between 0 and 1. Data normalization is crucial for several reasons:\n",
    "  - Helps in speeding up the training process\n",
    "  - Preventing gradient explosions and vanishing. If the data is not normalized, features with larger values can dominate the gradient updates, leading to gradient explosion or vanishing issues, making the training process unstable or slow.\n",
    "  - Better performance\n",
    "  - Normalization can prevent numerical issues during the training process, especially when using certain activation functions, which are sensitive to the input scale."
   ]
  },
  {
   "cell_type": "markdown",
   "metadata": {},
   "source": [
    "$$ Min - Max \\ Normalization: \\ \\ X' = \\frac{X - X_{\\text{min}}}{X_{\\text{max}} - X_{\\text{min}}} $$"
   ]
  },
  {
   "cell_type": "code",
   "execution_count": 11,
   "metadata": {},
   "outputs": [],
   "source": [
    "def normalize_data(values):\n",
    "  min_value = min(values)\n",
    "  max_value = max(values)\n",
    "  return [round((value - min_value) / (max_value - min_value), 4) for value in values]"
   ]
  },
  {
   "cell_type": "markdown",
   "metadata": {},
   "source": [
    "- using the Min - Max Normalization in a data generation algorithm."
   ]
  },
  {
   "cell_type": "code",
   "execution_count": 12,
   "metadata": {},
   "outputs": [],
   "source": [
    "def generate_data(purple_f, orange_f, green_f):\n",
    "  purple_lengths, purple_widths = np.array(purple_f).T.tolist()\n",
    "  orange_lengths, orange_widths = np.array(orange_f).T.tolist()\n",
    "  green_lengths, green_widths = np.array(green_f).T.tolist()\n",
    "  \n",
    "  lengths = [x for x in iter.chain(purple_lengths, orange_lengths, green_lengths)]\n",
    "  widths = [x for x in iter.chain(purple_widths, orange_widths, green_widths)]\n",
    "\n",
    "  normalized_lengths = normalize_data(lengths)\n",
    "  normalized_widths = normalize_data(widths)\n",
    "  \n",
    "  inputs = [(l, w) for l, w in zip(normalized_lengths, normalized_widths)]\n",
    "  return inputs"
   ]
  },
  {
   "cell_type": "markdown",
   "metadata": {},
   "source": [
    "- next step, i'm using **One Hot Encoding** to represent each flower as numerical value. This is a technique that is used machine learning models. It allows the use of categorical variables in models that require numerical input. Now each flower has its own unique value. "
   ]
  },
  {
   "cell_type": "code",
   "execution_count": 13,
   "metadata": {},
   "outputs": [],
   "source": [
    "purple = (1, 0, 0)\n",
    "orange = (0, 1, 0)\n",
    "green = (0, 0, 1)"
   ]
  },
  {
   "cell_type": "markdown",
   "metadata": {},
   "source": [
    "- generating the inputs and the targets data that the network needs, also setting extra parameters that are required for network training:\n",
    "  - Epochs - iterations of the repeated learning process\n",
    "  - Learning rate - optimizing parameter\n",
    "  - Numbers of neuros in each layer\n",
    "  - Weigth for every layer connection (randomly generated)\n",
    "  - Biases for hidden and output layer (randomly generated)"
   ]
  },
  {
   "cell_type": "code",
   "execution_count": 14,
   "metadata": {},
   "outputs": [],
   "source": [
    "inputs = generate_data(purple_len_wid, orange_len_wid, green_len_wid)\n",
    "targets = list(iter.chain(iter.repeat(purple, 22), iter.repeat(orange, 20), iter.repeat(green, 18)))\n",
    "epochs = 50\n",
    "learning_rate = .5\n",
    "input_count, hidden_count, output_count = 2, 8, 3\n",
    "\n",
    "# weigths from input layer -> hidden layer\n",
    "w_i_h = [\n",
    "  [-0.3048125205764348, -0.3689319192497319], \n",
    "  [0.4495600133459031, -0.27570318775208824], \n",
    "  [0.4463320581484289, 0.2273667575262014],\n",
    "  [0.3115580417942929, 0.20700068760044343], \n",
    "  [0.005618605163025925, 0.25905500275208737],\n",
    "  [-0.2620091308462177, 0.001190291388012299], \n",
    "  [-0.3937871564118448, 0.34041671819433694], \n",
    "  [-0.2906056208227794, 0.15050950518792472]\n",
    " ]\n",
    "\n",
    "# weigths from hidden layer -> output layer\n",
    "w_h_o = [\n",
    "  [-0.20325529148010302, 0.1054818799653302, 0.172861408053662, 0.11426945675276956, 0.17628644562056095, -0.05442237827544405, -0.15846038978191712, -0.04071805307246845],\n",
    "  [-0.25173365162011685, -0.34995420182143666, 0.08196136744255156, -0.28541042014953855, -0.3298738233019395, -0.2702855483592922, 0.22042850553155335, -0.26982553876537296], \n",
    "  [-0.30561417787349143, 0.27252515267726307, 0.2457533972946353, -0.29798196965417023, -0.33769371252973834, 0.13595267045658266, -0.11101899667709614, 0.3436868045292677]\n",
    "]\n",
    "\n",
    "# biases for the hidden layer\n",
    "b_i_h = [0.6063464597215029, 0.5589871196592605, 0.6874307812702185, 0.2125663677902685, 0.17106157055648363, 0.2902662662666464, 0.09678661783963749, 0.5872321338016152]\n",
    "\n",
    "# biases for the output layer\n",
    "b_h_o = [0.603809731255821, 0.9614383956023609, 0.7564420346500402]"
   ]
  },
  {
   "cell_type": "markdown",
   "metadata": {},
   "source": [
    " - it's time to create the learning algorithm.\n",
    "    - First i'm calculating the weigthed sum of all the weigths from the input neurons to each neuron in the hidden layer. According to the **weigthed sum** formula:\n",
    "    $$ z = \\sum_{i=1}^{n} w_{i} x_i + b $$\n",
    "\n",
    "    $$ or \\ more \\ visual \\ representation $$ \n",
    "    $$ z = Wx + b = \\begin{bmatrix} w_{11} & w_{12} & w_{13} \\\\ w_{21} & w_{22} & w_{23}  \\end{bmatrix} \\begin{bmatrix} x_1 \\\\ x_2 \\\\ x_3 \\end{bmatrix} + \\begin{bmatrix} b_1 \\\\ b_2 \\end{bmatrix} $$\n",
    "\n",
    "    - using activation function, called **ReLU (Rectified Linear Unit)** to the output of each neuron in the hidden layer. $$\\text{ReLU}(z) = \\max(0, z)$$ ReLU applies a simple thresholding operation to its input, This means that if $z$ is greater than zero ReLU outputs $z$ itself. If $z$ is less than or equal to zero, ReLU outputs zero. The primary role of ReLU is to introduce non-linearity into the network. Without non-linear activation functions like ReLU, neural networks would behave like a linear model, no matter how many layers they have. Non-linearity allows the network to approximate complex functions and learn intricate patterns in data.\n",
    "    <br>\n",
    "    <br>\n",
    "    - calculating the **weigthed sum** of the activated values from the hidden layer passing them to the output layer.\n",
    "    - activating the values from each output neurons using **Softmax activation** function. The softmax activation function is primarily used in the output layer of a neural network for multi-class classification tasks. **It turns a vector of K real values into a vector of K real values that sum to 1.** The input values can be positive, negative, zero, or greater than one, but the softmax transforms them into values between 0 and 1, so that they can be interpreted as probabilities. If one of the inputs is small or negative, the softmax turns it into a small probability, and if an input is large, then it turns it into a large probability, but it will always remain between 0 and 1.\n",
    "    $$ Softmax \\ \\   p_i = \\frac{e^{z_i}}{\\sum_{j=1}^{K} e^{z_j}}, \\quad \\text{for } i = 1, 2, \\ldots, K$$\n",
    "    - starting the backpropagation\n",
    "    - calculating the cost/loss using **Log Loss** function. It is a logarithmic transformation of the likelihood function, primarily used to evaluate the performance of probabilistic classifiers. Log Loss takes into account the uncertainty of predictions by penalizing models more heavily for confidently incorrect predictions.\n",
    "    $$ \\text{Log Loss} = -\\frac{1}{n} \\sum_{i=1}^{n} \\left[ y_i \\log(\\hat{y}_i) + (1 - y_i) \\log(1 - \\hat{y}_i) \\right]$$\n",
    "    - calculcating the error derivative of the output layer using the **Log Loss** function derivative formula.\n",
    "   $$ \\frac{\\partial \\text{Log Loss}}{\\partial \\hat{y}_i} = -\\frac{1}{n} \\sum_{i=1}^{n} \\left( \\frac{y_i}{\\hat{y}_i} - \\frac{1 - y_i}{1 - \\hat{y}_i} \\right) $$\n",
    "    - calculating the error derivative of the hidden layer outputs using **ReLU** function derivative.\n",
    "    $$\\text{ReLU}'(z) = \\begin{cases} 1, & \\text{if } z > 0 \\\\ 0, & \\text{if } z \\leq 0 \\end{cases} $$\n",
    "    - calculating the gradient of hidden layer to output layer.\n",
    "    - calculating the gradient of input layer to hidden layer.\n",
    "    - finally updating the weigths and biases for all layers in the network"
   ]
  },
  {
   "cell_type": "code",
   "execution_count": 15,
   "metadata": {},
   "outputs": [
    {
     "name": "stdout",
     "output_type": "stream",
     "text": [
      "Epoch: 0 cost: 1.9888\n",
      "Epoch: 1 cost: 1.9179\n",
      "Epoch: 2 cost: 1.8999\n",
      "Epoch: 3 cost: 1.8905\n",
      "Epoch: 4 cost: 1.8824\n",
      "Epoch: 5 cost: 1.8746\n",
      "Epoch: 6 cost: 1.8667\n",
      "Epoch: 7 cost: 1.8587\n",
      "Epoch: 8 cost: 1.8503\n",
      "Epoch: 9 cost: 1.8418\n",
      "Epoch: 10 cost: 1.8329\n",
      "Epoch: 11 cost: 1.8237\n",
      "Epoch: 12 cost: 1.8141\n",
      "Epoch: 13 cost: 1.8040\n",
      "Epoch: 14 cost: 1.7936\n",
      "Epoch: 15 cost: 1.7827\n",
      "Epoch: 16 cost: 1.7715\n",
      "Epoch: 17 cost: 1.7598\n",
      "Epoch: 18 cost: 1.7477\n",
      "Epoch: 19 cost: 1.7351\n",
      "Epoch: 20 cost: 1.7222\n",
      "Epoch: 21 cost: 1.7090\n",
      "Epoch: 22 cost: 1.6955\n",
      "Epoch: 23 cost: 1.6817\n",
      "Epoch: 24 cost: 1.6677\n",
      "Epoch: 25 cost: 1.6537\n",
      "Epoch: 26 cost: 1.6395\n",
      "Epoch: 27 cost: 1.6255\n",
      "Epoch: 28 cost: 1.6113\n",
      "Epoch: 29 cost: 1.5973\n",
      "Epoch: 30 cost: 1.5835\n",
      "Epoch: 31 cost: 1.5698\n",
      "Epoch: 32 cost: 1.5563\n",
      "Epoch: 33 cost: 1.5432\n",
      "Epoch: 34 cost: 1.5303\n",
      "Epoch: 35 cost: 1.5176\n",
      "Epoch: 36 cost: 1.5055\n",
      "Epoch: 37 cost: 1.4935\n",
      "Epoch: 38 cost: 1.4819\n",
      "Epoch: 39 cost: 1.4708\n",
      "Epoch: 40 cost: 1.4599\n",
      "Epoch: 41 cost: 1.4495\n",
      "Epoch: 42 cost: 1.4393\n",
      "Epoch: 43 cost: 1.4297\n",
      "Epoch: 44 cost: 1.4203\n",
      "Epoch: 45 cost: 1.4112\n",
      "Epoch: 46 cost: 1.4026\n",
      "Epoch: 47 cost: 1.3941\n",
      "Epoch: 48 cost: 1.3861\n",
      "Epoch: 49 cost: 1.3784\n"
     ]
    }
   ],
   "source": [
    "def softmax(predictions):\n",
    "  m = max(predictions)\n",
    "  temp = [math.exp(p - m) for p in predictions]\n",
    "  total = sum(temp)\n",
    "  return [t / total for t in temp]\n",
    "\n",
    "def log_loss(activations, targets):\n",
    "  act = np.clip(activations, 1e-15, 1 - 1e-15)\n",
    "  losses = [-t * math.log(a) - (1 - t) * math.log(1 - a) for a, t in zip(act, targets)]\n",
    "  return sum(losses)\n",
    "\n",
    "def network_training(inputs, targets, epochs, learning_rate, input_count, hidden_count, output_count, w_i_h, w_h_o, b_i_h, b_h_o):\n",
    "  for epoch in range(epochs):\n",
    "    # weigthed sum input layer -> hidden layer\n",
    "    pred_h = [[sum([w * a for w, a in zip(weights, inp)]) + bias for weights, bias in zip(w_i_h, b_i_h)] for inp in inputs]\n",
    "  \n",
    "    #apply ReLU activation\n",
    "    act_h = [[max(0, p) for p in pred] for pred in pred_h]\n",
    "  \n",
    "    # weigthed sum hidden layer -> output layer\n",
    "    pred_o = [[sum([w * a for w, a in zip(weights, inp)]) + bias for weights, bias in zip(w_h_o, b_h_o)] for inp in act_h]\n",
    "  \n",
    "    # softmax activation\n",
    "    act_o = [softmax(p) for p in pred_o]\n",
    "  \n",
    "    # cost/loss calculation\n",
    "    cost = sum([log_loss(a, t) for a, t in zip(act_o, targets)]) / len(act_o)\n",
    "    print(f\"Epoch: {epoch} cost: {cost:.4f}\")\n",
    "  \n",
    "    # calculating Log Loss derivative of the output layer\n",
    "    errors_d_o = [[a - t for a, t in zip(ac, ta)] for ac, ta in zip(act_o, targets)]\n",
    "  \n",
    "    # calculating ReLU derivative of the hidden layer\n",
    "    w_h_o_T = list(zip(*w_h_o))\n",
    "    errors_d_h = [[sum([d * w for d, w in zip(deltas, weights)]) * (0 if p <= 0 else 1) for weights, p in zip(w_h_o_T, pred)] for deltas, pred in zip(errors_d_o, pred_h)]\n",
    "  \n",
    "    # Gradient hidden->output\n",
    "    act_h_T = list(zip(*act_h))\n",
    "    errors_d_o_T = list(zip(*errors_d_o))\n",
    "    w_h_o_d = [[sum([d * a for d, a in zip(deltas, act)]) for deltas in errors_d_o_T] for act in act_h_T] # contains the deltas for the weights from hidden to output\n",
    "    b_h_o_d = [sum([d for d in deltas]) for deltas in errors_d_o_T] # contains the deltas for the output layer biases\n",
    "  \n",
    "    # Gradient input->hidden\n",
    "    inputs_T = list(zip(*inputs))\n",
    "    errors_d_h_T = list(zip(*errors_d_h))\n",
    "    w_i_h_d = [[sum([d * a for d, a in zip(deltas, act)]) for deltas in errors_d_h_T] for act in inputs_T]\n",
    "    b_i_h_d = [sum([d for d in deltas]) for deltas in errors_d_h_T]\n",
    "  \n",
    "    # Upgrade weights and biases for all layers\n",
    "    w_h_o_d_T = list(zip(*w_h_o_d))\n",
    "    for y in range(output_count):\n",
    "      for x in range(hidden_count):\n",
    "        w_h_o[y][x] -= learning_rate * w_h_o_d_T[y][x] / len(inputs)\n",
    "      b_h_o[y] -= learning_rate * b_h_o_d[y] / len(inputs)\n",
    "\n",
    "    w_i_h_d_T = list(zip(*w_i_h_d))\n",
    "    for y in range(hidden_count):\n",
    "      for x in range(input_count):\n",
    "        w_i_h[y][x] -= learning_rate * w_i_h_d_T[y][x] / len(inputs)\n",
    "      b_i_h[y] -= learning_rate * b_i_h_d[y] / len(inputs) \n",
    "  return w_i_h, w_h_o, b_i_h, b_h_o\n",
    "\n",
    "w_i_h, w_h_o, b_i_h, b_h_o = network_training(inputs, targets, epochs, learning_rate, input_count, hidden_count, output_count, w_i_h, w_h_o, b_i_h, b_h_o)"
   ]
  },
  {
   "cell_type": "markdown",
   "metadata": {},
   "source": [
    " 3. Lastly, testing how well the network learns.\n",
    "  - creating test data."
   ]
  },
  {
   "cell_type": "code",
   "execution_count": 16,
   "metadata": {},
   "outputs": [],
   "source": [
    "test_purple_len_wid = [(round(random.uniform(2.2, 5.3), 1), round(random.uniform(1.1, 2.7), 1)) for _ in range(10)]\n",
    "test_orange_len_wid = [(round(random.uniform(2.9, 4.7), 1), round(random.uniform(2.2, 3.2), 1)) for _ in range(10)]\n",
    "test_green_len_wid = [(round(random.uniform(2.7, 4.7), 1), round(random.uniform(2.5, 3.9), 1)) for _ in range(10)]\n",
    "\n",
    "test_inputs = generate_data(test_purple_len_wid, test_orange_len_wid, test_green_len_wid)\n",
    "test_targets = list(iter.chain(iter.repeat(purple, 10), iter.repeat(orange, 10), iter.repeat(green, 10)))"
   ]
  },
  {
   "cell_type": "markdown",
   "metadata": {},
   "source": [
    "- creating the test algorithm."
   ]
  },
  {
   "cell_type": "code",
   "execution_count": 17,
   "metadata": {},
   "outputs": [
    {
     "name": "stdout",
     "output_type": "stream",
     "text": [
      "Correct: 18/30 (60.000000%)\n"
     ]
    }
   ],
   "source": [
    "def network_testing(t_inputs, t_targets, w_i_h, w_h_o, b_i_h, b_h_o):\n",
    "\n",
    "  pred_h = [[sum([w * a for w, a in zip(weights, inp)]) + bias for weights, bias in zip(w_i_h, b_i_h)] for inp in t_inputs]\n",
    "  act_h = [[max(0, p) for p in pre] for pre in pred_h]\n",
    "  pred_o = [[sum([w * a for w, a in zip(weights, inp)]) + bias for weights, bias in zip(w_h_o, b_h_o)] for inp in act_h]\n",
    "  act_o = [softmax(p) for p in pred_o]\n",
    "  correct = 0\n",
    "\n",
    "  for a, t in zip(act_o, t_targets):\n",
    "    if a.index(max(a)) == t.index(max(t)):\n",
    "      correct += 1\n",
    "  print(f\"Correct: {correct}/{len(act_o)} ({correct / len(act_o):%})\")\n",
    "  \n",
    "network_testing(test_inputs, test_targets, w_i_h, w_h_o, b_i_h, b_h_o)"
   ]
  },
  {
   "cell_type": "markdown",
   "metadata": {},
   "source": [
    " - The predictions success vary between **40-80%**, this is because the data (leaves length and leaves width) is randomized, and that makes it chaotic. This indicates that there is no clear relationship between the variables, or that the data has high variance, making it difficult to identify any meaningful pattern. We can see from the table metrics, that we can have Orange flower with $ length = 3, width = 3$, also Green flower with the same values for length and width. In that case, the network has hard times predicting this outputs. In order to fix this we need to optimize the network. Adding additional hidden layer can help, adjusting some learning parameters also another parameters for distinction between the flowers.\n",
    " - Visualizing the data of non-linear model."
   ]
  },
  {
   "cell_type": "code",
   "execution_count": 18,
   "metadata": {},
   "outputs": [
    {
     "data": {
      "image/png": "[encoded data removed]",
      "text/plain": [
       "<Figure size 640x480 with 1 Axes>"
      ]
     },
     "metadata": {},
     "output_type": "display_data"
    }
   ],
   "source": [
    "def plot_inputs(inputs, targets, title):\n",
    "  data = list(zip(inputs, targets))\n",
    "  \n",
    "  purple_arr = []\n",
    "  orange_arr = []\n",
    "  green_arr = []\n",
    "  \n",
    "  for i in range(len(data)):\n",
    "    if data[i][1] == (1, 0, 0):\n",
    "      purple_arr.append(data[i][0])\n",
    "    elif data[i][1] == (0, 1, 0):\n",
    "      orange_arr.append(data[i][0])\n",
    "    else:\n",
    "      green_arr.append(data[i][0])\n",
    "  \n",
    "  purple_x, purple_y = zip(*purple_arr)\n",
    "  orange_x, orange_y = zip(*orange_arr)\n",
    "  green_x, green_y = zip(*green_arr)\n",
    "\n",
    "  # Plotting the data\n",
    "  plt.scatter(purple_x, purple_y, color = \"purple\", label=\"Purple\")\n",
    "  plt.scatter(orange_x, orange_y, color = \"orange\", label=\"Orange\")\n",
    "  plt.scatter(green_x, green_y, color = \"green\", label=\"Green\")\n",
    "  plt.xlabel('X-axis')\n",
    "  plt.ylabel('Y-axis')\n",
    "  plt.title(title)\n",
    "  plt.xlim(-0.2, 1.2)\n",
    "  plt.ylim(-0.2, 1.2)\n",
    "  plt.grid(True)\n",
    "  plt.legend()\n",
    "  plt.show()\n",
    "\n",
    "plot_inputs(inputs, targets, 'Flowers with conflic metrics')"
   ]
  },
  {
   "cell_type": "markdown",
   "metadata": {},
   "source": [
    " - For the last example, i'm going to train the network with non conflict metrics and see the results. \n",
    "    - changing the metrics for the flowers in a way that, two flowers can't be similar:\n",
    "  \n",
    "  | Color  |  Length  | Width |\n",
    "|----------|:-------------:|------:|\n",
    "| Purple |min = 1.2, max = 2.7| min = 1, max = 2.3|\n",
    "| Orange |min = 1.9, max = 2.9| min = 2.8, max = 4.2|\n",
    "| Green |min = 3.5, max = 4.8 | min = 2.1, max = 3.2|"
   ]
  },
  {
   "cell_type": "code",
   "execution_count": 19,
   "metadata": {},
   "outputs": [],
   "source": [
    "# USING THE SAME VALUES FOR WEIGTHS AND BIASES BEFORE THE APPLIED CHANGES FROM THE 1-ST MODEL TRAINING\n",
    "w_i_h = [\n",
    "  [-0.3048125205764348, -0.3689319192497319], \n",
    "  [0.4495600133459031, -0.27570318775208824], \n",
    "  [0.4463320581484289, 0.2273667575262014],\n",
    "  [0.3115580417942929, 0.20700068760044343], \n",
    "  [0.005618605163025925, 0.25905500275208737],\n",
    "  [-0.2620091308462177, 0.001190291388012299], \n",
    "  [-0.3937871564118448, 0.34041671819433694], \n",
    "  [-0.2906056208227794, 0.15050950518792472]\n",
    " ]\n",
    "\n",
    "w_h_o = [\n",
    "  [-0.20325529148010302, 0.1054818799653302, 0.172861408053662, 0.11426945675276956, 0.17628644562056095, -0.05442237827544405, -0.15846038978191712, -0.04071805307246845],\n",
    "  [-0.25173365162011685, -0.34995420182143666, 0.08196136744255156, -0.28541042014953855, -0.3298738233019395, -0.2702855483592922, 0.22042850553155335, -0.26982553876537296], \n",
    "  [-0.30561417787349143, 0.27252515267726307, 0.2457533972946353, -0.29798196965417023, -0.33769371252973834, 0.13595267045658266, -0.11101899667709614, 0.3436868045292677]\n",
    "]\n",
    "\n",
    "b_i_h = [0.6063464597215029, 0.5589871196592605, 0.6874307812702185, 0.2125663677902685, 0.17106157055648363, 0.2902662662666464, 0.09678661783963749, 0.5872321338016152]\n",
    "\n",
    "b_h_o = [0.603809731255821, 0.9614383956023609, 0.7564420346500402]"
   ]
  },
  {
   "cell_type": "code",
   "execution_count": 20,
   "metadata": {},
   "outputs": [
    {
     "name": "stdout",
     "output_type": "stream",
     "text": [
      "Epoch: 0 cost: 1.9705\n",
      "Epoch: 1 cost: 1.8558\n",
      "Epoch: 2 cost: 1.8069\n",
      "Epoch: 3 cost: 1.7719\n",
      "Epoch: 4 cost: 1.7396\n",
      "Epoch: 5 cost: 1.7076\n",
      "Epoch: 6 cost: 1.6749\n",
      "Epoch: 7 cost: 1.6411\n",
      "Epoch: 8 cost: 1.6061\n",
      "Epoch: 9 cost: 1.5697\n",
      "Epoch: 10 cost: 1.5319\n",
      "Epoch: 11 cost: 1.4929\n",
      "Epoch: 12 cost: 1.4530\n",
      "Epoch: 13 cost: 1.4123\n",
      "Epoch: 14 cost: 1.3706\n",
      "Epoch: 15 cost: 1.3287\n",
      "Epoch: 16 cost: 1.2863\n",
      "Epoch: 17 cost: 1.2440\n",
      "Epoch: 18 cost: 1.2018\n",
      "Epoch: 19 cost: 1.1604\n",
      "Epoch: 20 cost: 1.1195\n",
      "Epoch: 21 cost: 1.0796\n",
      "Epoch: 22 cost: 1.0409\n",
      "Epoch: 23 cost: 1.0031\n",
      "Epoch: 24 cost: 0.9669\n",
      "Epoch: 25 cost: 0.9317\n",
      "Epoch: 26 cost: 0.8974\n",
      "Epoch: 27 cost: 0.8644\n",
      "Epoch: 28 cost: 0.8323\n",
      "Epoch: 29 cost: 0.8014\n",
      "Epoch: 30 cost: 0.7717\n",
      "Epoch: 31 cost: 0.7429\n",
      "Epoch: 32 cost: 0.7153\n",
      "Epoch: 33 cost: 0.6887\n",
      "Epoch: 34 cost: 0.6632\n",
      "Epoch: 35 cost: 0.6387\n",
      "Epoch: 36 cost: 0.6153\n",
      "Epoch: 37 cost: 0.5928\n",
      "Epoch: 38 cost: 0.5714\n",
      "Epoch: 39 cost: 0.5509\n",
      "Epoch: 40 cost: 0.5314\n",
      "Epoch: 41 cost: 0.5128\n",
      "Epoch: 42 cost: 0.4950\n",
      "Epoch: 43 cost: 0.4781\n",
      "Epoch: 44 cost: 0.4620\n",
      "Epoch: 45 cost: 0.4466\n",
      "Epoch: 46 cost: 0.4321\n",
      "Epoch: 47 cost: 0.4182\n",
      "Epoch: 48 cost: 0.4050\n",
      "Epoch: 49 cost: 0.3925\n"
     ]
    }
   ],
   "source": [
    "# new data for the classification model\n",
    "linear_purple_len_wid = [(round(random.uniform(1.2, 2.7), 1), round(random.uniform(1, 2.3), 1)) for _ in range(12)]\n",
    "linear_orange_len_wid = [(round(random.uniform(1.9, 2.9), 1), round(random.uniform(2.8, 4.2), 1)) for _ in range(18)]\n",
    "linear_green_len_wid = [(round(random.uniform(3.5, 4.8), 1), round(random.uniform(2.1, 3.2), 1)) for _ in range(20)]\n",
    "\n",
    "linear_inputs = generate_data(linear_purple_len_wid, linear_orange_len_wid, linear_green_len_wid)\n",
    "linear_targets = list(iter.chain(iter.repeat(purple, 12), iter.repeat(orange, 18), iter.repeat(green, 20)))\n",
    "\n",
    "# training the classification model\n",
    "w_i_h, w_h_o, b_i_h, b_h_o = network_training(linear_inputs, linear_targets, epochs, learning_rate, input_count, hidden_count, output_count, w_i_h, w_h_o, b_i_h, b_h_o)"
   ]
  },
  {
   "cell_type": "markdown",
   "metadata": {},
   "source": [
    "- Testing the linear model"
   ]
  },
  {
   "cell_type": "code",
   "execution_count": 21,
   "metadata": {},
   "outputs": [
    {
     "name": "stdout",
     "output_type": "stream",
     "text": [
      "Correct: 58/60 (96.666667%)\n"
     ]
    }
   ],
   "source": [
    "linear_test_purple_len_wid = [(round(random.uniform(1.2, 2.7), 1), round(random.uniform(1, 2.3), 1)) for _ in range(20)]\n",
    "linear_test_orange_len_wid = [(round(random.uniform(1.9, 2.9), 1), round(random.uniform(2.8, 4.2), 1)) for _ in range(20)]\n",
    "linear_test_green_len_wid = [(round(random.uniform(3.5, 4.8), 1), round(random.uniform(2.1, 3.2), 1)) for _ in range(20)]\n",
    "\n",
    "linear_test_inputs = generate_data(linear_test_purple_len_wid, linear_test_orange_len_wid, linear_test_green_len_wid)\n",
    "linear_test_targets = list(iter.chain(iter.repeat(purple, 20), iter.repeat(orange, 20), iter.repeat(green, 20)))\n",
    "\n",
    "network_testing(linear_test_inputs, linear_test_targets, w_i_h, w_h_o, b_i_h, b_h_o)"
   ]
  },
  {
   "cell_type": "markdown",
   "metadata": {},
   "source": [
    "- Visualizing the data."
   ]
  },
  {
   "cell_type": "code",
   "execution_count": 22,
   "metadata": {},
   "outputs": [
    {
     "data": {
      "image/png": "[encoded data removed]",
      "text/plain": [
       "<Figure size 640x480 with 1 Axes>"
      ]
     },
     "metadata": {},
     "output_type": "display_data"
    }
   ],
   "source": [
    "plot_inputs(linear_test_inputs, linear_test_targets, \"Flowers Classification\")"
   ]
  }
 ],
 "metadata": {
  "kernelspec": {
   "display_name": "base",
   "language": "python",
   "name": "python3"
  },
  "language_info": {
   "codemirror_mode": {
    "name": "ipython",
    "version": 3
   },
   "file_extension": ".py",
   "mimetype": "text/x-python",
   "name": "python",
   "nbconvert_exporter": "python",
   "pygments_lexer": "ipython3",
   "version": "3.11.10"
  },
  "orig_nbformat": 4
 },
 "nbformat": 4,
 "nbformat_minor": 2
}
